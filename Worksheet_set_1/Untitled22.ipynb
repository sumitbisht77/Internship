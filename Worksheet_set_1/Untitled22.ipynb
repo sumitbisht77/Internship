{
 "cells": [
  {
   "cell_type": "code",
   "execution_count": 2,
   "id": "de84b2b6",
   "metadata": {},
   "outputs": [
    {
     "name": "stdout",
     "output_type": "stream",
     "text": [
      "The factorial of 5 is 120\n"
     ]
    }
   ],
   "source": [
    "def factorial(n: int) -> int:\n",
    "    if n < 0:\n",
    "        return None\n",
    "    elif n == 0:\n",
    "        return 1\n",
    "    else:\n",
    "        return n * factorial(n - 1)\n",
    "\n",
    "number = 5\n",
    "factorial_of_number = factorial(number)\n",
    "print(f\"The factorial of {number} is {factorial_of_number}\")\n"
   ]
  },
  {
   "cell_type": "code",
   "execution_count": null,
   "id": "cb67bed6",
   "metadata": {},
   "outputs": [],
   "source": [
    "num = int(input(\"Enter a number: \"))\n",
    "\n",
    "# A positive integer greater than 1 which has no other factors except 1 and the number itself is called a prime number.\n",
    "# 2, 3, 5, 7 etc. are prime numbers as they do not have any other factors.\n",
    "# But 6 is not prime (it is composite) since, 2 x 3 = 6.\n",
    "\n",
    "# define a flag variable\n",
    "flag = False\n",
    "\n",
    "if num == 1:\n",
    "    print(num, \"is not a prime number\")\n",
    "elif num > 1:\n",
    "    # check for factors\n",
    "    for i in range(2, num):\n",
    "        if (num % i) == 0:\n",
    "            # if factor is found, set flag to True\n",
    "            flag = True\n",
    "            # break out of loop\n",
    "            break\n",
    "\n",
    "    # check if flag is True\n",
    "    if flag:\n",
    "        print(num, \"is not a prime number\")\n",
    "    else:\n",
    "        print(num, \"is a prime number\")\n"
   ]
  },
  {
   "cell_type": "code",
   "execution_count": null,
   "id": "508b3a9b",
   "metadata": {},
   "outputs": [],
   "source": []
  },
  {
   "cell_type": "code",
   "execution_count": null,
   "id": "37f59925",
   "metadata": {},
   "outputs": [],
   "source": [
    "# import math module for square root function\n",
    "import math\n",
    "\n",
    "# take the two sides as input\n",
    "side1 = float(input(\"Enter the first side: \"))\n",
    "side2 = float(input(\"Enter the second side: \"))\n",
    "\n",
    "# use the Pythagorean theorem to calculate the third side\n",
    "side3 = math.sqrt(side1**2 + side2**2)\n",
    "\n",
    "# print the result\n",
    "print(\"The third side is\", side3)\n",
    " "
   ]
  },
  {
   "cell_type": "code",
   "execution_count": null,
   "id": "b99305c8",
   "metadata": {},
   "outputs": [],
   "source": []
  },
  {
   "cell_type": "code",
   "execution_count": null,
   "id": "187207ab",
   "metadata": {},
   "outputs": [],
   "source": []
  }
 ],
 "metadata": {
  "kernelspec": {
   "display_name": "Python 3 (ipykernel)",
   "language": "python",
   "name": "python3"
  },
  "language_info": {
   "codemirror_mode": {
    "name": "ipython",
    "version": 3
   },
   "file_extension": ".py",
   "mimetype": "text/x-python",
   "name": "python",
   "nbconvert_exporter": "python",
   "pygments_lexer": "ipython3",
   "version": "3.10.9"
  }
 },
 "nbformat": 4,
 "nbformat_minor": 5
}
