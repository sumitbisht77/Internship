{
 "cells": [
  {
   "cell_type": "code",
   "execution_count": 4,
   "id": "6a92421e",
   "metadata": {},
   "outputs": [
    {
     "name": "stdout",
     "output_type": "stream",
     "text": [
      "The original text: This is a sample text, with spaces and dots. Let's replace them with colons.\n",
      "The modified text: This:is:a:sample:text:with:spaces:and:dots:Let's:replace:them:with:colons:\n"
     ]
    }
   ],
   "source": [
    "import re\n",
    "\n",
    "text = \"This is a sample text, with spaces and dots. Let's replace them with colons.\"\n",
    "new_text = re.sub(r\"[ ,.]+\", \":\", text)\n",
    "\n",
    "print(f\"The original text: {text}\")\n",
    "print(f\"The modified text: {new_text}\")\n"
   ]
  },
  {
   "cell_type": "code",
   "execution_count": null,
   "id": "872e1e0a",
   "metadata": {},
   "outputs": [],
   "source": [
    "Ans 2"
   ]
  },
  {
   "cell_type": "code",
   "execution_count": 5,
   "id": "d83fd6f4",
   "metadata": {},
   "outputs": [
    {
     "name": "stdout",
     "output_type": "stream",
     "text": [
      "         SUMMARY\n",
      "0    hello world\n",
      "1     XXXXX test\n",
      "2  four five six\n"
     ]
    }
   ],
   "source": [
    "import pandas as pd\n",
    "import re\n",
    "\n",
    "data = {'SUMMARY' : ['hello, world!', 'XXXXX test', '123four, five:; six...']}\n",
    "df = pd.DataFrame(data)\n",
    "\n",
    "# Remove all non-alphabetic characters from the columns\n",
    "df = df.replace(to_replace=r'[^a-zA-Z\\s]+', value='', regex=True)\n",
    "\n",
    "print(df)\n"
   ]
  },
  {
   "cell_type": "code",
   "execution_count": null,
   "id": "40681216",
   "metadata": {},
   "outputs": [],
   "source": [
    "Ans 3"
   ]
  },
  {
   "cell_type": "code",
   "execution_count": 6,
   "id": "9f1d2a85",
   "metadata": {},
   "outputs": [
    {
     "name": "stdout",
     "output_type": "stream",
     "text": [
      "['This', 'sample', 'string', 'with', 'some', 'words', 'that', 'least', 'characters', 'long']\n"
     ]
    }
   ],
   "source": [
    "import re\n",
    "\n",
    "def find_words(string):\n",
    "    pattern = re.compile(r'\\b\\w{4,}\\b')\n",
    "    return pattern.findall(string)\n",
    "string = \"This is a sample string with some words that are at least 4 characters long.\"\n",
    "words = find_words(string)\n",
    "print(words)\n"
   ]
  },
  {
   "cell_type": "code",
   "execution_count": null,
   "id": "a55ecbdb",
   "metadata": {},
   "outputs": [],
   "source": [
    "Ans 4"
   ]
  },
  {
   "cell_type": "code",
   "execution_count": 9,
   "id": "e7611b2b",
   "metadata": {},
   "outputs": [
    {
     "name": "stdout",
     "output_type": "stream",
     "text": [
      "['This', 'sample', 'text', 'find', 'words', 'different', 'lengths', 'like', 'apple', 'bird']\n"
     ]
    }
   ],
   "source": [
    "import re\n",
    "\n",
    "def find_words(string):\n",
    "    pattern = re.compile(r'\\b\\w{4,}\\b')\n",
    "    return pattern.findall(string)\n",
    "string = \"This is a sample text to find words of different lengths like, apple, and bird.\"\n",
    "words = find_words(string)\n",
    "print(words)"
   ]
  },
  {
   "cell_type": "code",
   "execution_count": null,
   "id": "d4822562",
   "metadata": {},
   "outputs": [],
   "source": [
    "Ans 5"
   ]
  },
  {
   "cell_type": "code",
   "execution_count": 26,
   "id": "ee5d1e81",
   "metadata": {},
   "outputs": [
    {
     "name": "stdout",
     "output_type": "stream",
     "text": [
      "['example .com', 'hr@fliprobo .com', 'github .com', 'Hello Data Science World', 'Data Scientist']\n"
     ]
    }
   ],
   "source": [
    "import re\n",
    "\n",
    "def remove_parenthesis(strings):\n",
    "    pattern = re.compile(r\"\\(|\\)\")\n",
    "    return [pattern.sub(\"\", string) for string in strings]\n",
    "strings = [\"example (.com)\", \"hr@fliprobo (.com)\", \"github (.com)\", \"Hello (Data Science World)\", \"Data (Scientist)\"]\n",
    "print(remove_parenthesis(strings))\n"
   ]
  },
  {
   "cell_type": "code",
   "execution_count": null,
   "id": "37b3eb4c",
   "metadata": {},
   "outputs": [],
   "source": [
    "And 6"
   ]
  },
  {
   "cell_type": "code",
   "execution_count": 54,
   "id": "5107eaae",
   "metadata": {},
   "outputs": [
    {
     "name": "stdout",
     "output_type": "stream",
     "text": [
      "example\n",
      "hr@fliprobo\n",
      "github\n",
      "Hello\n",
      "Data\n"
     ]
    }
   ],
   "source": [
    "import re\n",
    "items = [\"example (.com)\", \"hr@fliprobo (.com)\", \"github (.com)\", \"Hello (Data Science World)\", \"Data (Scientist)\"]\n",
    "for item in items:\n",
    "    print(re.sub(r\" ?\\([^)]+\\)\", \"\", item))\n",
    "\t"
   ]
  },
  {
   "cell_type": "code",
   "execution_count": null,
   "id": "3ead1f51",
   "metadata": {},
   "outputs": [],
   "source": [
    "Ans 7"
   ]
  },
  {
   "cell_type": "code",
   "execution_count": 27,
   "id": "cc07bc96",
   "metadata": {},
   "outputs": [
    {
     "name": "stdout",
     "output_type": "stream",
     "text": [
      "['Importance', 'Of', 'Regular', 'Expressions', 'In', 'Python']\n"
     ]
    }
   ],
   "source": [
    "import re\n",
    "\n",
    "sample_text = \"ImportanceOfRegularExpressionsInPython\"\n",
    "result = re.findall('[A-Z][^A-Z]*', sample_text)\n",
    "print(result)\n"
   ]
  },
  {
   "cell_type": "code",
   "execution_count": null,
   "id": "c8ea9dc3",
   "metadata": {},
   "outputs": [],
   "source": [
    "Ans 8"
   ]
  },
  {
   "cell_type": "code",
   "execution_count": 28,
   "id": "df48287c",
   "metadata": {},
   "outputs": [
    {
     "name": "stdout",
     "output_type": "stream",
     "text": [
      "RegularExpression1 IsAn2 ImportantTopic3 InPython\n"
     ]
    }
   ],
   "source": [
    "import re\n",
    "\n",
    "def insert_spaces(text):\n",
    "    return re.sub(r'(?<=\\d)(?=\\D)', ' ', text)\n",
    "\n",
    "text = \"RegularExpression1IsAn2ImportantTopic3InPython\"\n",
    "print(insert_spaces(text)) # Regular Expression 1 Is An 2 Important Topic 3 In Python\n"
   ]
  },
  {
   "cell_type": "code",
   "execution_count": null,
   "id": "eb28e97a",
   "metadata": {},
   "outputs": [],
   "source": [
    "Ans 9"
   ]
  },
  {
   "cell_type": "code",
   "execution_count": 29,
   "id": "fd591bce",
   "metadata": {},
   "outputs": [
    {
     "name": "stdout",
     "output_type": "stream",
     "text": [
      "Regular Expression 1Is An 2Important Topic 3In Python\n"
     ]
    }
   ],
   "source": [
    "import re\n",
    "\n",
    "def insert_spaces(text):\n",
    "    return re.sub(r'(?<=[a-z])(?=[A-Z0-9])', ' ', text)\n",
    "\n",
    "text = \"RegularExpression1IsAn2ImportantTopic3InPython\"\n",
    "print(insert_spaces(text))\n"
   ]
  },
  {
   "cell_type": "code",
   "execution_count": null,
   "id": "f9dfa37c",
   "metadata": {},
   "outputs": [],
   "source": [
    "Ans 10"
   ]
  },
  {
   "cell_type": "code",
   "execution_count": 45,
   "id": "2dbfb1ac",
   "metadata": {},
   "outputs": [
    {
     "name": "stdout",
     "output_type": "stream",
     "text": [
      "         Country                           Region  Happiness Rank  \\\n",
      "0    Switzerland                   Western Europe               1   \n",
      "1        Iceland                   Western Europe               2   \n",
      "2        Denmark                   Western Europe               3   \n",
      "3         Norway                   Western Europe               4   \n",
      "4         Canada                    North America               5   \n",
      "..           ...                              ...             ...   \n",
      "153       Rwanda               Sub-Saharan Africa             154   \n",
      "154        Benin               Sub-Saharan Africa             155   \n",
      "155        Syria  Middle East and Northern Africa             156   \n",
      "156      Burundi               Sub-Saharan Africa             157   \n",
      "157         Togo               Sub-Saharan Africa             158   \n",
      "\n",
      "     Happiness Score  Standard Error  Economy (GDP per Capita)   Family  \\\n",
      "0              7.587         0.03411                   1.39651  1.34951   \n",
      "1              7.561         0.04884                   1.30232  1.40223   \n",
      "2              7.527         0.03328                   1.32548  1.36058   \n",
      "3              7.522         0.03880                   1.45900  1.33095   \n",
      "4              7.427         0.03553                   1.32629  1.32261   \n",
      "..               ...             ...                       ...      ...   \n",
      "153            3.465         0.03464                   0.22208  0.77370   \n",
      "154            3.340         0.03656                   0.28665  0.35386   \n",
      "155            3.006         0.05015                   0.66320  0.47489   \n",
      "156            2.905         0.08658                   0.01530  0.41587   \n",
      "157            2.839         0.06727                   0.20868  0.13995   \n",
      "\n",
      "     Health (Life Expectancy)  Freedom  Trust (Government Corruption)  \\\n",
      "0                     0.94143  0.66557                        0.41978   \n",
      "1                     0.94784  0.62877                        0.14145   \n",
      "2                     0.87464  0.64938                        0.48357   \n",
      "3                     0.88521  0.66973                        0.36503   \n",
      "4                     0.90563  0.63297                        0.32957   \n",
      "..                        ...      ...                            ...   \n",
      "153                   0.42864  0.59201                        0.55191   \n",
      "154                   0.31910  0.48450                        0.08010   \n",
      "155                   0.72193  0.15684                        0.18906   \n",
      "156                   0.22396  0.11850                        0.10062   \n",
      "157                   0.28443  0.36453                        0.10731   \n",
      "\n",
      "     Generosity  Dystopia Residual first_five_letters  \n",
      "0       0.29678            2.51738             Switze  \n",
      "1       0.43630            2.70201             Icelan  \n",
      "2       0.34139            2.49204             Denmar  \n",
      "3       0.34699            2.46531             Norway  \n",
      "4       0.45811            2.45176             Canada  \n",
      "..          ...                ...                ...  \n",
      "153     0.22628            0.67042             Rwanda  \n",
      "154     0.18260            1.63328              Benin  \n",
      "155     0.47179            0.32858              Syria  \n",
      "156     0.19727            1.83302             Burund  \n",
      "157     0.16681            1.56726               Togo  \n",
      "\n",
      "[158 rows x 13 columns]\n"
     ]
    }
   ],
   "source": [
    "import pandas as pd\n",
    "\n",
    "url = 'https://raw.githubusercontent.com/dsrscientist/DSData/master/happiness_score_dataset.csv'\n",
    "df = pd.read_csv(url)\n",
    "df['first_five_letters'] = df['Country'].str[:6]\n",
    "print(df)\n"
   ]
  },
  {
   "cell_type": "code",
   "execution_count": null,
   "id": "7699d423",
   "metadata": {},
   "outputs": [],
   "source": [
    "Ans 11"
   ]
  },
  {
   "cell_type": "code",
   "execution_count": 47,
   "id": "915298e6",
   "metadata": {},
   "outputs": [
    {
     "name": "stdout",
     "output_type": "stream",
     "text": [
      "Not matched!\n",
      "Found a match!\n"
     ]
    }
   ],
   "source": [
    "import re\n",
    "\n",
    "def text_match(text):\n",
    "    patterns = '^[a-zA-Z0-9_]*$'\n",
    "    if re.search(patterns, text):\n",
    "        return 'Found a match!'\n",
    "    else:\n",
    "        return 'Not matched!'\n",
    "\n",
    "print(text_match(\"The black dog jumps over the lazy cat.\"))\n",
    "print(text_match(\"Python_Exercises_1\"))\n"
   ]
  },
  {
   "cell_type": "code",
   "execution_count": null,
   "id": "26143aeb",
   "metadata": {},
   "outputs": [],
   "source": [
    "Ans 12"
   ]
  },
  {
   "cell_type": "code",
   "execution_count": 49,
   "id": "a86c4bba",
   "metadata": {},
   "outputs": [
    {
     "name": "stdout",
     "output_type": "stream",
     "text": [
      "True\n",
      "False\n"
     ]
    }
   ],
   "source": [
    "import re\n",
    "\n",
    "def match_num(string):\n",
    "    text = re.compile(r\"^5\")\n",
    "    if text.match(string):\n",
    "        return True\n",
    "    else:\n",
    "        return False\n",
    "\n",
    "print(match_num('5-2345861'))\n",
    "print(match_num('6-2345861'))\n"
   ]
  },
  {
   "cell_type": "code",
   "execution_count": null,
   "id": "a52785af",
   "metadata": {},
   "outputs": [],
   "source": [
    "Ans 13"
   ]
  },
  {
   "cell_type": "code",
   "execution_count": 2,
   "id": "751b9c0c",
   "metadata": {},
   "outputs": [
    {
     "name": "stdout",
     "output_type": "stream",
     "text": [
      "216.8.94.196\n"
     ]
    }
   ],
   "source": [
    "import re\n",
    "ip = \"216.08.094.196\"\n",
    "string = re.sub('\\.[0]*', '.', ip)\n",
    "print(string)\n"
   ]
  },
  {
   "cell_type": "code",
   "execution_count": null,
   "id": "65c4304c",
   "metadata": {},
   "outputs": [],
   "source": [
    "Ans 14"
   ]
  },
  {
   "cell_type": "code",
   "execution_count": 5,
   "id": "2c260547",
   "metadata": {},
   "outputs": [
    {
     "name": "stdout",
     "output_type": "stream",
     "text": [
      "Match found: August 15th 1947\n"
     ]
    }
   ],
   "source": [
    "import re\n",
    "\n",
    "text = \"On August 15th 1947 that India was declared independent from British colonialism, and the reins of control were handed over to the leaders of the Country.\"\n",
    "\n",
    "date_regex = r\"(January|February|March|April|May|June|July|August|September|October|November|December)\\s\\d{1,2}\\w{2}\\s\\d{4}\"\n",
    "\n",
    "match = re.search(date_regex, text)\n",
    "\n",
    "if match:\n",
    "    print(f\"Match found: {match.group()}\")\n",
    "else:\n",
    "    print(\"No match found.\")\n"
   ]
  },
  {
   "cell_type": "code",
   "execution_count": null,
   "id": "c16c8fc7",
   "metadata": {},
   "outputs": [],
   "source": [
    "Ans 15"
   ]
  },
  {
   "cell_type": "code",
   "execution_count": 8,
   "id": "f43fca03",
   "metadata": {},
   "outputs": [
    {
     "name": "stdout",
     "output_type": "stream",
     "text": [
      "'fox' found in the text.\n",
      "'cat' not found in the text.\n",
      "'Horse' not found in the text.\n",
      "'elephant' not found in the text.\n"
     ]
    }
   ],
   "source": [
    "def search_strings(text, strings_to_search):\n",
    "    # Using the 'in' operator to check if the strings are present in the text\n",
    "    for string in strings_to_search:\n",
    "        if string in text:\n",
    "            print(f\"'{string}' found in the text.\")\n",
    "        else:\n",
    "            print(f\"'{string}' not found in the text.\")\n",
    "\n",
    "# Sample text\n",
    "sample_text = 'The quick brown fox jumps over the lazy dog.'\n",
    "\n",
    "# List of strings to search\n",
    "strings_to_search = ['fox', 'cat', 'Horse', 'elephant']\n",
    "\n",
    "# Search for the strings in the text\n",
    "search_strings(sample_text, strings_to_search)\n"
   ]
  },
  {
   "cell_type": "code",
   "execution_count": null,
   "id": "655875f3",
   "metadata": {},
   "outputs": [],
   "source": [
    "Ans 16"
   ]
  },
  {
   "cell_type": "code",
   "execution_count": 9,
   "id": "5ff0002b",
   "metadata": {},
   "outputs": [
    {
     "name": "stdout",
     "output_type": "stream",
     "text": [
      "Found \"fox\" in \"The quick brown fox jumps over the lazy dog.\" from 16 to 19\n"
     ]
    }
   ],
   "source": [
    "import re\n",
    "\n",
    "pattern = 'fox'\n",
    "text = 'The quick brown fox jumps over the lazy dog.'\n",
    "match = re.search(pattern, text)\n",
    "s = match.start()\n",
    "e = match.end()\n",
    "\n",
    "print(f'Found \"{match.re.pattern}\" in \"{match.string}\" from {s} to {e}')\n"
   ]
  },
  {
   "cell_type": "code",
   "execution_count": null,
   "id": "9ec2d8f0",
   "metadata": {},
   "outputs": [],
   "source": [
    "Ans 17"
   ]
  },
  {
   "cell_type": "code",
   "execution_count": 26,
   "id": "84407ddf",
   "metadata": {},
   "outputs": [
    {
     "name": "stdout",
     "output_type": "stream",
     "text": [
      "['Python exercises', 'PHP exercises', 'C# exercises']\n"
     ]
    }
   ],
   "source": [
    "def find_substrings(text, separator):\n",
    "    # Split the text into substrings using the separator\n",
    "    substrings = text.split(separator)\n",
    "    \n",
    "    return substrings\n",
    "\n",
    "# Sample text\n",
    "sample_text = 'Python exercises, PHP exercises, C# exercises'\n",
    "\n",
    "# Separator to split the text\n",
    "separator = ', '\n",
    "\n",
    "# Find substrings within the text using the separator\n",
    "result = find_substrings(sample_text, separator)\n",
    "print(result)\n"
   ]
  },
  {
   "cell_type": "code",
   "execution_count": null,
   "id": "253356b2",
   "metadata": {},
   "outputs": [],
   "source": [
    "Ans 18"
   ]
  },
  {
   "cell_type": "code",
   "execution_count": 27,
   "id": "c981ba00",
   "metadata": {},
   "outputs": [
    {
     "name": "stdout",
     "output_type": "stream",
     "text": [
      "Found \"fox\" at 16:19\n",
      "Found \"fox\" at 61:64\n"
     ]
    }
   ],
   "source": [
    "import re\n",
    "\n",
    "text = \"The quick brown fox jumps over the lazy dog. The quick brown fox jumps over the lazy dog.\"\n",
    "pattern = \"fox\"\n",
    "\n",
    "for match in re.finditer(pattern, text):\n",
    "    s = match.start()\n",
    "    e = match.end()\n",
    "    print(f\"Found \\\"{text[s:e]}\\\" at {s}:{e}\")\n"
   ]
  },
  {
   "cell_type": "code",
   "execution_count": null,
   "id": "2dd986f1",
   "metadata": {},
   "outputs": [],
   "source": []
  },
  {
   "cell_type": "code",
   "execution_count": null,
   "id": "2f04453f",
   "metadata": {},
   "outputs": [],
   "source": [
    "Ans 19"
   ]
  },
  {
   "cell_type": "code",
   "execution_count": 17,
   "id": "86f0333f",
   "metadata": {},
   "outputs": [
    {
     "name": "stdout",
     "output_type": "stream",
     "text": [
      "Enter a date in yyyy-mm-dd format: 2000-05-31\n",
      "The date in dd-mm-yyyy format is 31-05-2000.\n"
     ]
    }
   ],
   "source": [
    "from datetime import datetime\n",
    "\n",
    "date_str = input(\"Enter a date in yyyy-mm-dd format: \")\n",
    "date_obj = datetime.strptime(date_str, \"%Y-%m-%d\")\n",
    "new_date_str = date_obj.strftime(\"%d-%m-%Y\")\n",
    "\n",
    "print(f\"The date in dd-mm-yyyy format is {new_date_str}.\")\n"
   ]
  },
  {
   "cell_type": "code",
   "execution_count": null,
   "id": "938b00b7",
   "metadata": {},
   "outputs": [],
   "source": [
    "Ans 20"
   ]
  },
  {
   "cell_type": "code",
   "execution_count": 22,
   "id": "f9289df6",
   "metadata": {},
   "outputs": [
    {
     "name": "stdout",
     "output_type": "stream",
     "text": [
      "['01.12', '0132.12', '2.31', '145.8', '3.01', '27.25', '0.25']\n"
     ]
    }
   ],
   "source": [
    "import re\n",
    "\n",
    "def find_decimal_numbers(text):\n",
    "    pattern = re.compile(r'\\d+\\.\\d{1,2}')\n",
    "    return pattern.findall(text)\n",
    "text = \"01.12 0132.123 2.31875 145.8 3.01 27.25 0.25\"\n",
    "decimal_numbers = find_decimal_numbers(text)\n",
    "print(decimal_numbers)\n"
   ]
  },
  {
   "cell_type": "code",
   "execution_count": null,
   "id": "dffae2f3",
   "metadata": {},
   "outputs": [],
   "source": [
    "Ans 21"
   ]
  },
  {
   "cell_type": "code",
   "execution_count": 25,
   "id": "19b032f7",
   "metadata": {},
   "outputs": [
    {
     "name": "stdout",
     "output_type": "stream",
     "text": [
      "Number '1' found at position 3.\n",
      "Number '5' found at position 4.\n",
      "Number '6' found at position 5.\n",
      "Number '6' found at position 9.\n",
      "Number '7' found at position 10.\n",
      "Number '6' found at position 11.\n"
     ]
    }
   ],
   "source": [
    "def print_numbers_and_positions(text):\n",
    "    for index, char in enumerate(text):\n",
    "        if char.isdigit():\n",
    "            print(f\"Number '{char}' found at position {index}.\")\n",
    "\n",
    "# Sample text\n",
    "sample_text = \"mbc156dlf676ghi\"\n",
    "\n",
    "# Print numbers and their positions in the text\n",
    "print_numbers_and_positions(sample_text)\n"
   ]
  },
  {
   "cell_type": "code",
   "execution_count": null,
   "id": "3e7fdb40",
   "metadata": {},
   "outputs": [],
   "source": [
    "Ans 22"
   ]
  },
  {
   "cell_type": "code",
   "execution_count": 29,
   "id": "59f21fc3",
   "metadata": {},
   "outputs": [
    {
     "name": "stdout",
     "output_type": "stream",
     "text": [
      "The maximum number in the string is 950.\n"
     ]
    }
   ],
   "source": [
    "import re\n",
    "\n",
    "text = 'My marks in each semester are: 947, 896, 926, 524, 734, 950, 642'\n",
    "\n",
    "# Extract all numbers from the string\n",
    "numbers = re.findall(r'\\d+', text)\n",
    "\n",
    "# Convert the numbers to integers\n",
    "numbers = list(map(int, numbers))\n",
    "\n",
    "# Find the maximum number\n",
    "max_number = max(numbers)\n",
    "\n",
    "print(f\"The maximum number in the string is {max_number}.\")\n"
   ]
  },
  {
   "cell_type": "code",
   "execution_count": null,
   "id": "fa969ff4",
   "metadata": {},
   "outputs": [],
   "source": [
    "Ans 23"
   ]
  },
  {
   "cell_type": "code",
   "execution_count": 41,
   "id": "677beb55",
   "metadata": {},
   "outputs": [
    {
     "name": "stdout",
     "output_type": "stream",
     "text": [
      "Regular Expression Is An Important Topic In Python\n"
     ]
    }
   ],
   "source": [
    "import re\n",
    "\n",
    "def insert_spaces(text):\n",
    "    return re.sub(r'([a-z])([A-Z])', r'\\1 \\2', text)\n",
    "\n",
    "text = \"RegularExpressionIsAnImportantTopicInPython\"\n",
    "print(insert_spaces(text))\n"
   ]
  },
  {
   "cell_type": "code",
   "execution_count": null,
   "id": "cf3a3a06",
   "metadata": {},
   "outputs": [],
   "source": [
    "Ans 24"
   ]
  },
  {
   "cell_type": "code",
   "execution_count": 43,
   "id": "265d8144",
   "metadata": {},
   "outputs": [
    {
     "name": "stdout",
     "output_type": "stream",
     "text": [
      "['This', 'Text', 'Camel', 'Case']\n"
     ]
    }
   ],
   "source": [
    "import re\n",
    "\n",
    "text = \"This is a sample Text with Camel Case words\"\n",
    "matches = re.findall(r'[A-Z][a-z]+', text)\n",
    "\n",
    "print(matches)\n"
   ]
  },
  {
   "cell_type": "code",
   "execution_count": null,
   "id": "f3ffe7c6",
   "metadata": {},
   "outputs": [],
   "source": [
    "Ans 25"
   ]
  },
  {
   "cell_type": "code",
   "execution_count": 46,
   "id": "acf0e656",
   "metadata": {},
   "outputs": [
    {
     "name": "stdout",
     "output_type": "stream",
     "text": [
      "Hello world\n"
     ]
    }
   ],
   "source": [
    "import re\n",
    "\n",
    "def remove_duplicate_words(sentence):\n",
    "    # Use regex to remove continuous duplicate words\n",
    "    return re.sub(r'\\b(\\w+)( \\1\\b)+', r'\\1', sentence, flags=re.IGNORECASE)\n",
    "\n",
    "# Sample usage\n",
    "sample_text = \"Hello hello world world\"\n",
    "print(remove_duplicate_words(sample_text))\n"
   ]
  },
  {
   "cell_type": "code",
   "execution_count": null,
   "id": "a824738d",
   "metadata": {},
   "outputs": [],
   "source": [
    "Ans 26"
   ]
  },
  {
   "cell_type": "code",
   "execution_count": 48,
   "id": "771b0eff",
   "metadata": {},
   "outputs": [
    {
     "name": "stdout",
     "output_type": "stream",
     "text": [
      "The string 'HelloWorld123' ends with an alphanumeric character.\n",
      "The string 'HelloWorld123!' does not end with an alphanumeric character.\n"
     ]
    }
   ],
   "source": [
    "import re\n",
    "\n",
    "regex = r\"[a-zA-Z0-9]$\"\n",
    "\n",
    "def check_string(string):\n",
    "    if re.search(regex, string):\n",
    "        print(f\"The string '{string}' ends with an alphanumeric character.\")\n",
    "    else:\n",
    "        print(f\"The string '{string}' does not end with an alphanumeric character.\")\n",
    "\n",
    "check_string(\"HelloWorld123\")\n",
    "check_string(\"HelloWorld123!\")\n"
   ]
  },
  {
   "cell_type": "code",
   "execution_count": null,
   "id": "f8e2778d",
   "metadata": {},
   "outputs": [],
   "source": [
    "Ans 27"
   ]
  },
  {
   "cell_type": "code",
   "execution_count": 49,
   "id": "0ec05014",
   "metadata": {},
   "outputs": [
    {
     "name": "stdout",
     "output_type": "stream",
     "text": [
      "The hashtags in the given text are: ['#Doltiwal', '#xyzabc', '#Demonetization']\n"
     ]
    }
   ],
   "source": [
    "import re\n",
    "\n",
    "def extract_hashtags(text):\n",
    "    regex = r'#\\w+'\n",
    "    return re.findall(regex, text)\n",
    "\n",
    "sample_text = 'RT @kapil_kausik: #Doltiwal I mean #xyzabc is \"hurt\" by #Demonetization as the same has rendered USELESS <ed><U+00A0><U+00BD><ed><U+00B1><U+0089> \"acquired funds\" No wo'\n",
    "hashtags = extract_hashtags(sample_text)\n",
    "print(f'The hashtags in the given text are: {hashtags}')\n"
   ]
  },
  {
   "cell_type": "code",
   "execution_count": null,
   "id": "7eb0c98f",
   "metadata": {},
   "outputs": [],
   "source": [
    "Ans 28"
   ]
  },
  {
   "cell_type": "code",
   "execution_count": 50,
   "id": "60137a40",
   "metadata": {},
   "outputs": [
    {
     "name": "stdout",
     "output_type": "stream",
     "text": [
      "@Jags123456 Bharat band on 28??<ed><ed>Those who  are protesting #demonetization  are all different party leaders\n"
     ]
    }
   ],
   "source": [
    "import re\n",
    "\n",
    "def remove_symbols(input_string):\n",
    "    return re.sub(r'<U\\+[0-9A-Fa-f]{2,4}>', '', input_string)\n",
    "sample_text = \"@Jags123456 Bharat band on 28??<ed><U+00A0><U+00BD><ed><U+00B8><U+0082>Those who  are protesting #demonetization  are all different party leaders\"\n",
    "print(remove_symbols(sample_text))\n"
   ]
  },
  {
   "cell_type": "code",
   "execution_count": null,
   "id": "ae3314c0",
   "metadata": {},
   "outputs": [],
   "source": [
    "Ans 29"
   ]
  },
  {
   "cell_type": "code",
   "execution_count": null,
   "id": "2ddc5595",
   "metadata": {},
   "outputs": [],
   "source": [
    "import re\n",
    "\n",
    "# Open the file and read the data\n",
    "with open('sample.txt', 'r') as file:\n",
    "    text = file.read()\n",
    "\n",
    "# Match a regex pattern for formatted dates\n",
    "matches = re.findall(r'\\d{2}-\\d{2}-\\d{4}', text)\n",
    "\n",
    "# Print the extracted dates\n",
    "print(f\"The extracted dates are: {matches}\")\n"
   ]
  },
  {
   "cell_type": "code",
   "execution_count": null,
   "id": "3b671e92",
   "metadata": {},
   "outputs": [],
   "source": [
    "Ans 30"
   ]
  },
  {
   "cell_type": "code",
   "execution_count": 58,
   "id": "d137c9db",
   "metadata": {},
   "outputs": [
    {
     "name": "stdout",
     "output_type": "stream",
     "text": [
      " following example creates  ArrayList  a capacity   elements. 4 elements   added   ArrayList   ArrayList  trimmed accordingly.\n"
     ]
    }
   ],
   "source": [
    "import re\n",
    "\n",
    "def remove_words_of_length_between_2_and_4(text):\n",
    "    pattern = re.compile(r'\\b\\w{2,4}\\b')\n",
    "    return pattern.sub('', text)\n",
    "\n",
    "# Sample text\n",
    "sample_text = \"The following example creates an ArrayList with a capacity of 50 elements. 4 elements are then added to the ArrayList and the ArrayList is trimmed accordingly.\"\n",
    "\n",
    "# Remove words of length between 2 and 4 from the text\n",
    "result = remove_words_of_length_between_2_and_4(sample_text)\n",
    "print(result)\n"
   ]
  },
  {
   "cell_type": "code",
   "execution_count": null,
   "id": "bbb3f81f",
   "metadata": {},
   "outputs": [],
   "source": []
  }
 ],
 "metadata": {
  "kernelspec": {
   "display_name": "Python 3 (ipykernel)",
   "language": "python",
   "name": "python3"
  },
  "language_info": {
   "codemirror_mode": {
    "name": "ipython",
    "version": 3
   },
   "file_extension": ".py",
   "mimetype": "text/x-python",
   "name": "python",
   "nbconvert_exporter": "python",
   "pygments_lexer": "ipython3",
   "version": "3.10.9"
  }
 },
 "nbformat": 4,
 "nbformat_minor": 5
}
